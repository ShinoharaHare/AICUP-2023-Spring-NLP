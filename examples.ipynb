{
 "cells": [
  {
   "attachments": {},
   "cell_type": "markdown",
   "metadata": {},
   "source": [
    "## 前置動作"
   ]
  },
  {
   "attachments": {},
   "cell_type": "markdown",
   "metadata": {},
   "source": [
    "設定 Elasticsearch 相關的環境變數"
   ]
  },
  {
   "cell_type": "code",
   "execution_count": 1,
   "metadata": {},
   "outputs": [
    {
     "name": "stdout",
     "output_type": "stream",
     "text": [
      "env: ES_HOSTS=https://localhost:9200\n",
      "env: ES_CA_CERTS=/etc/elasticsearch/certs/http_ca.crt\n",
      "env: ES_USERNAME=elastic\n",
      "env: ES_PASSWORD=\n"
     ]
    }
   ],
   "source": [
    "%env ES_HOSTS=https://localhost:9200\n",
    "%env ES_CA_CERTS=/etc/elasticsearch/certs/http_ca.crt\n",
    "%env ES_USERNAME=elastic\n",
    "%env ES_PASSWORD="
   ]
  },
  {
   "attachments": {},
   "cell_type": "markdown",
   "metadata": {},
   "source": [
    "下載資料集與模型權重"
   ]
  },
  {
   "cell_type": "code",
   "execution_count": 5,
   "metadata": {},
   "outputs": [],
   "source": [
    "from huggingface_hub import snapshot_download\n",
    "\n",
    "snapshot_download('ShinoharaHare/AICUP-2023-Spring-NLP', local_dir='.')"
   ]
  },
  {
   "attachments": {},
   "cell_type": "markdown",
   "metadata": {},
   "source": [
    "處理訓練資料集和 Wiki 資料集"
   ]
  },
  {
   "cell_type": "code",
   "execution_count": null,
   "metadata": {},
   "outputs": [],
   "source": [
    "!python scripts/utils/create_claim_dataset.py \\\n",
    "    --data_files=\"['data/raw/public_train_0316.jsonl','data/raw/public_train_0522.jsonl']\" \\\n",
    "    --output_dir=\"data/claim_dataset\"\n",
    "\n",
    "!python scripts/utils/create_wiki_dataset.py \\\n",
    "    --data_dir=\"data/raw/wiki-pages\" \\\n",
    "    --output_dir=\"data/wiki_dataset\""
   ]
  },
  {
   "attachments": {},
   "cell_type": "markdown",
   "metadata": {},
   "source": [
    "## 訓練 Pairwise Ranking Sentence Retriever"
   ]
  },
  {
   "attachments": {},
   "cell_type": "markdown",
   "metadata": {},
   "source": [
    "準備訓練資料集"
   ]
  },
  {
   "cell_type": "code",
   "execution_count": null,
   "metadata": {},
   "outputs": [],
   "source": [
    "!python scripts/sentence_retrieval/prepare_pairwise_ranking_dataset.py \\\n",
    "    --claim_dataset_path=\"data/claim_dataset\" \\\n",
    "    --wiki_dataset_path=\"data/wiki_dataset\" \\\n",
    "    --output_dir=\"data/sentence_retrieval/pairwise_ranking\" \\\n",
    "    --top_k=3 \\\n",
    "    --min_score=10.0 \\\n",
    "    --return_by_noun=True \\\n",
    "    --merge_adjacent=True \\\n",
    "    --return_unmerged=True"
   ]
  },
  {
   "attachments": {},
   "cell_type": "markdown",
   "metadata": {},
   "source": [
    "開始訓練"
   ]
  },
  {
   "cell_type": "code",
   "execution_count": null,
   "metadata": {},
   "outputs": [],
   "source": [
    "!python scripts/sentence_retrieval/train_pairwise_ranking.py \\\n",
    "    --dataset_path=\"data/sentence_retrieval/pairwise_ranking\" \\\n",
    "    --claim_dataset_path=\"data/claim_dataset\" \\\n",
    "    --wiki_dataset_path=\"data/wiki_dataset\" \\\n",
    "    --name=\"pairwise-ranking-sentence-retriever\" \\\n",
    "    --max_epochs=3 \\\n",
    "    --val_check_interval=2000"
   ]
  },
  {
   "attachments": {},
   "cell_type": "markdown",
   "metadata": {},
   "source": [
    "## 訓練 Classifier Claim Verifier"
   ]
  },
  {
   "attachments": {},
   "cell_type": "markdown",
   "metadata": {},
   "source": [
    "準備訓練資料集"
   ]
  },
  {
   "cell_type": "code",
   "execution_count": null,
   "metadata": {},
   "outputs": [],
   "source": [
    "!python scripts/claim_verification/prepare_classifier_dataset_prsr.py \\\n",
    "    --claim_dataset_path=\"data/claim_dataset\" \\\n",
    "    --wiki_dataset_path=\"data/wiki_dataset\" \\\n",
    "    --output_dir=\"data/claim_verification/classifier_prsr\" \\\n",
    "    --top_k=3 \\\n",
    "    --min_score=10.0 \\\n",
    "    --return_by_noun=True \\\n",
    "    --merge_adjacent=True \\\n",
    "    --return_unmerged=True \\\n",
    "    --sentence_retriever_path=\"sentence_retriever/e8hneqtg/e2.weights.ckpt\""
   ]
  },
  {
   "cell_type": "markdown",
   "metadata": {},
   "source": [
    "開始訓練"
   ]
  },
  {
   "cell_type": "code",
   "execution_count": null,
   "metadata": {},
   "outputs": [],
   "source": [
    "!python scripts/claim_verification/train_classifier.py \\\n",
    "    --dataset_path=\"data/claim_verification/classifier_prsr\" \\\n",
    "    --name=\"classifier-claim-verifier_megatron-bert-1.3b\" \\\n",
    "    --max_epochs=10 \\\n",
    "    --val_check_interval=2500"
   ]
  },
  {
   "attachments": {},
   "cell_type": "markdown",
   "metadata": {},
   "source": [
    "## 預測"
   ]
  },
  {
   "attachments": {},
   "cell_type": "markdown",
   "metadata": {},
   "source": [
    "使用 Pairwise Ranking Sentence Retriever + Classifier Claim Verifier 進行預測"
   ]
  },
  {
   "cell_type": "code",
   "execution_count": null,
   "metadata": {},
   "outputs": [],
   "source": [
    "!python scripts/e2e/prsr_ccv_tmp.py \\\n",
    "    --wiki_dataset_path=\"data/wiki_dataset\" \\\n",
    "    --test_data_path=\"data/raw/public_private_test_data.jsonl\" \\\n",
    "    --sr_path=\"sentence_retriever/e8hneqtg/e2.weights.ckpt\" \\\n",
    "    --cv_path=\"claim_verifier/7xet7u1m/e9.weights.ckpt\" \\\n",
    "    --precision=16 \\\n",
    "    --sr_batch_size=64 \\\n",
    "    --cv_batch_size=32 \\\n",
    "    --cv_max_length=512 \\\n",
    "    --top_k=3 \\\n",
    "    --min_score=10.0 \\\n",
    "    --return_by_noun=True \\\n",
    "    --merge_adjacent=True \\\n",
    "    --return_unmerged=True"
   ]
  }
 ],
 "metadata": {
  "kernelspec": {
   "display_name": "aicup-2023-spring-nlp",
   "language": "python",
   "name": "python3"
  },
  "language_info": {
   "codemirror_mode": {
    "name": "ipython",
    "version": 3
   },
   "file_extension": ".py",
   "mimetype": "text/x-python",
   "name": "python",
   "nbconvert_exporter": "python",
   "pygments_lexer": "ipython3",
   "version": "3.10.10"
  },
  "orig_nbformat": 4
 },
 "nbformat": 4,
 "nbformat_minor": 2
}
